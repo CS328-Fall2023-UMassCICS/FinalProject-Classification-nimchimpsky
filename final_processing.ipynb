{
 "cells": [
  {
   "cell_type": "code",
   "execution_count": 1,
   "metadata": {},
   "outputs": [],
   "source": [
    "# -- IMPORTS START --\n",
    "import pandas as pd\n",
    "import glob\n",
    "import re\n",
    "import os\n",
    "import sys\n",
    "import pickle\n",
    "import numpy as np\n",
    "import matplotlib\n",
    "import matplotlib.pyplot as plt\n",
    "\n",
    "from sklearn import tree, metrics\n",
    "from sklearn.model_selection import train_test_split, cross_val_score\n",
    "from sklearn.metrics import accuracy_score, confusion_matrix, classification_report, ConfusionMatrixDisplay\n",
    "from scipy.signal import butter, filtfilt, find_peaks\n",
    "from sklearn.tree import DecisionTreeClassifier,export_graphviz\n",
    "from sklearn.model_selection import train_test_split\n",
    "\n",
    "import datetime\n",
    "# -- IMPORTS END --\n",
    "\n",
    "# enable zooming into graphs\n",
    "%matplotlib notebook\n",
    "plt.rcParams['figure.figsize'] = [9, 6] # width, height in inches"
   ]
  },
  {
   "cell_type": "markdown",
   "metadata": {},
   "source": [
    "### Helper Functions:\n",
    "\n",
    "**unix_to_date:**\n",
    "- Converts Epoch(Unix) Time into traditional DateTime information\n",
    "\n",
    "**starter:**\n",
    "- applies all necessary cleaning to eliminate null instances, unnecessary columns, etc.\n",
    "- returns working DataFrame with relevant information"
   ]
  },
  {
   "cell_type": "code",
   "execution_count": 16,
   "metadata": {},
   "outputs": [],
   "source": [
    "def unix_to_date(x):\n",
    "    f = float(x)\n",
    "    full = datetime.datetime.fromtimestamp(int(str(f)[:-5]))\n",
    "    full = full.replace(microsecond=int(float(str(f)[-5:]))*1000)\n",
    "    return full\n"
   ]
  },
  {
   "cell_type": "code",
   "execution_count": 17,
   "metadata": {},
   "outputs": [],
   "source": [
    "def starter_acg(filepath):\n",
    "    df = pd.read_csv(filepath)\n",
    "    df.dropna(inplace=True)\n",
    "    df['Time'] = df['t_unix'].apply(unix_to_date)\n",
    "    df = df.drop(['t_unix','t_Android','a'], axis=1)\n",
    "    df = df.reindex(columns=['Time', 'x', 'y', 'z'])\n",
    "\n",
    "    return df"
   ]
  },
  {
   "cell_type": "code",
   "execution_count": 23,
   "metadata": {},
   "outputs": [
    {
     "data": {
      "text/html": [
       "<div>\n",
       "<style scoped>\n",
       "    .dataframe tbody tr th:only-of-type {\n",
       "        vertical-align: middle;\n",
       "    }\n",
       "\n",
       "    .dataframe tbody tr th {\n",
       "        vertical-align: top;\n",
       "    }\n",
       "\n",
       "    .dataframe thead th {\n",
       "        text-align: right;\n",
       "    }\n",
       "</style>\n",
       "<table border=\"1\" class=\"dataframe\">\n",
       "  <thead>\n",
       "    <tr style=\"text-align: right;\">\n",
       "      <th></th>\n",
       "      <th>Time</th>\n",
       "      <th>x</th>\n",
       "      <th>y</th>\n",
       "      <th>z</th>\n",
       "    </tr>\n",
       "  </thead>\n",
       "  <tbody>\n",
       "    <tr>\n",
       "      <th>0</th>\n",
       "      <td>2023-11-27 16:52:03.540</td>\n",
       "      <td>-3.250764</td>\n",
       "      <td>6.453616</td>\n",
       "      <td>3.097448</td>\n",
       "    </tr>\n",
       "    <tr>\n",
       "      <th>1</th>\n",
       "      <td>2023-11-27 16:52:03.540</td>\n",
       "      <td>-3.250764</td>\n",
       "      <td>6.453616</td>\n",
       "      <td>3.097448</td>\n",
       "    </tr>\n",
       "    <tr>\n",
       "      <th>2</th>\n",
       "      <td>2023-11-27 16:52:03.625</td>\n",
       "      <td>-3.250764</td>\n",
       "      <td>6.453616</td>\n",
       "      <td>3.097448</td>\n",
       "    </tr>\n",
       "    <tr>\n",
       "      <th>3</th>\n",
       "      <td>2023-11-27 16:52:03.625</td>\n",
       "      <td>-4.371882</td>\n",
       "      <td>6.685985</td>\n",
       "      <td>5.710995</td>\n",
       "    </tr>\n",
       "    <tr>\n",
       "      <th>4</th>\n",
       "      <td>2023-11-27 16:52:03.625</td>\n",
       "      <td>-4.338344</td>\n",
       "      <td>6.685985</td>\n",
       "      <td>5.710995</td>\n",
       "    </tr>\n",
       "  </tbody>\n",
       "</table>\n",
       "</div>"
      ],
      "text/plain": [
       "                     Time         x         y         z\n",
       "0 2023-11-27 16:52:03.540 -3.250764  6.453616  3.097448\n",
       "1 2023-11-27 16:52:03.540 -3.250764  6.453616  3.097448\n",
       "2 2023-11-27 16:52:03.625 -3.250764  6.453616  3.097448\n",
       "3 2023-11-27 16:52:03.625 -4.371882  6.685985  5.710995\n",
       "4 2023-11-27 16:52:03.625 -4.338344  6.685985  5.710995"
      ]
     },
     "execution_count": 23,
     "metadata": {},
     "output_type": "execute_result"
    }
   ],
   "source": [
    "b_acg = starter_acg(\"data/Backhand/WEAR_ACG.csv\")\n",
    "\n",
    "f_acg = starter_acg(\"data/Forehand/WEAR_ACG.csv\")\n",
    "\n",
    "s_acg = starter_acg(\"data/Serve/WEAR_ACG.csv\")\n",
    "\n",
    "s_acg.head()\n",
    "\n"
   ]
  }
 ],
 "metadata": {
  "kernelspec": {
   "display_name": "base",
   "language": "python",
   "name": "python3"
  },
  "language_info": {
   "codemirror_mode": {
    "name": "ipython",
    "version": 3
   },
   "file_extension": ".py",
   "mimetype": "text/x-python",
   "name": "python",
   "nbconvert_exporter": "python",
   "pygments_lexer": "ipython3",
   "version": "3.11.4"
  }
 },
 "nbformat": 4,
 "nbformat_minor": 2
}
