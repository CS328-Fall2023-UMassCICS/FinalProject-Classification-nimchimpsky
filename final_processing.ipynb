{
 "cells": [
  {
   "cell_type": "code",
   "execution_count": null,
   "metadata": {},
   "outputs": [],
   "source": [
    "# -- IMPORTS START --\n",
    "import pandas as pd\n",
    "import glob\n",
    "import re\n",
    "import os\n",
    "import sys\n",
    "import pickle\n",
    "import numpy as np\n",
    "import matplotlib\n",
    "import matplotlib.pyplot as plt\n",
    "\n",
    "from sklearn import tree, metrics\n",
    "from sklearn.model_selection import train_test_split, cross_val_score\n",
    "from sklearn.metrics import accuracy_score, confusion_matrix, classification_report, ConfusionMatrixDisplay\n",
    "from scipy.signal import butter, filtfilt, find_peaks\n",
    "from sklearn.tree import DecisionTreeClassifier,export_graphviz\n",
    "from sklearn.model_selection import train_test_split\n",
    "\n",
    "import datetime\n",
    "# -- IMPORTS END --\n",
    "\n",
    "# enable zooming into graphs\n",
    "%matplotlib notebook\n",
    "plt.rcParams['figure.figsize'] = [9, 6] # width, height in inches"
   ]
  },
  {
   "cell_type": "markdown",
   "metadata": {},
   "source": [
    "### Helper Functions:\n",
    "\n",
    "**unix_to_date:**\n",
    "- Converts Epoch(Unix) Time into traditional DateTime information\n",
    "\n",
    "**starter:**\n",
    "- applies all necessary cleaning to eliminate null instances, unnecessary columns, etc.\n",
    "- returns working DataFrame with relevant information\n",
    "\n",
    "**calc_magnitude**\n",
    "- Takes individual(x,y,z) accelerometer information and combines it into a singular magnitude"
   ]
  },
  {
   "cell_type": "code",
   "execution_count": null,
   "metadata": {},
   "outputs": [],
   "source": [
    "def unix_to_date(x):\n",
    "    f = float(x)\n",
    "    full = datetime.datetime.fromtimestamp(int(str(f)[:-5]))\n",
    "    full = full.replace(microsecond=int(float(str(f)[-5:]))*1000)\n",
    "    return full\n"
   ]
  },
  {
   "cell_type": "code",
   "execution_count": null,
   "metadata": {},
   "outputs": [],
   "source": [
    "def calc_magnitude(data):\n",
    "\n",
    "    # Calculate magnitude  \n",
    "    data['accel_mag'] = np.sqrt(data['x']**2 + data['y']**2 + data['z']**2) # absolute accel magnitude\n",
    "    data['accel_mag'] = data['accel_mag'] - data['accel_mag'].mean() # detrend: \"remove gravity\"\n",
    "\n",
    "    return data"
   ]
  },
  {
   "cell_type": "code",
   "execution_count": null,
   "metadata": {},
   "outputs": [],
   "source": [
    "def starter(filepath):\n",
    "    df = pd.read_csv(filepath)\n",
    "    df.dropna(inplace=True)\n",
    "    df['Time'] = df['t_unix'].apply(unix_to_date)\n",
    "    calc_magnitude(df)\n",
    "    df = df.drop(['t_unix','t_Android','a'], axis=1)\n",
    "    df = df.reindex(columns=['Time','accel_mag', 'x', 'y', 'z'])\n",
    "\n",
    "    return df"
   ]
  },
  {
   "cell_type": "code",
   "execution_count": null,
   "metadata": {},
   "outputs": [],
   "source": [
    "b_acg = starter(\"data/Backhand/WEAR_ACG.csv\")\n",
    "\n",
    "f_acg = starter(\"data/Forehand/WEAR_ACG.csv\")\n",
    "\n",
    "s_acg = starter(\"data/Serve/WEAR_ACG.csv\")\n",
    "\n",
    "b_gyro = starter(\"data/Backhand/WEAR_GYRO.csv\")\n",
    "\n",
    "f_gyro = starter(\"data/Forehand/WEAR_GYRO.csv\")\n",
    "\n",
    "s_gyro = starter(\"data/Serve/WEAR_GYRO.csv\")"
   ]
  },
  {
   "cell_type": "code",
   "execution_count": null,
   "metadata": {},
   "outputs": [],
   "source": [
    "b_acg.head()"
   ]
  },
  {
   "cell_type": "code",
   "execution_count": null,
   "metadata": {},
   "outputs": [],
   "source": []
  }
 ],
 "metadata": {
  "kernelspec": {
   "display_name": "base",
   "language": "python",
   "name": "python3"
  },
  "language_info": {
   "codemirror_mode": {
    "name": "ipython",
    "version": 3
   },
   "file_extension": ".py",
   "mimetype": "text/x-python",
   "name": "python",
   "nbconvert_exporter": "python",
   "pygments_lexer": "ipython3",
   "version": "3.11.4"
  }
 },
 "nbformat": 4,
 "nbformat_minor": 2
}
