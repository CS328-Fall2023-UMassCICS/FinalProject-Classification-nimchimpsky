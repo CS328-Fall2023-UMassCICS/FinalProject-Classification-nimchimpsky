{
 "cells": [
  {
   "cell_type": "code",
   "execution_count": 1,
   "metadata": {},
   "outputs": [],
   "source": [
    "# -- IMPORTS START --\n",
    "import pandas as pd\n",
    "import glob\n",
    "import re\n",
    "import os\n",
    "import sys\n",
    "import pickle\n",
    "import numpy as np\n",
    "import matplotlib\n",
    "import matplotlib.pyplot as plt\n",
    "\n",
    "from sklearn import tree, metrics\n",
    "from sklearn.model_selection import train_test_split, cross_val_score\n",
    "from sklearn.metrics import accuracy_score, confusion_matrix, classification_report, ConfusionMatrixDisplay\n",
    "from scipy.signal import butter, filtfilt, find_peaks\n",
    "from sklearn.tree import DecisionTreeClassifier,export_graphviz\n",
    "from sklearn.model_selection import train_test_split\n",
    "\n",
    "import datetime\n",
    "# -- IMPORTS END --\n",
    "\n",
    "# enable zooming into graphs\n",
    "%matplotlib notebook\n",
    "plt.rcParams['figure.figsize'] = [9, 6] # width, height in inches"
   ]
  },
  {
   "cell_type": "markdown",
   "metadata": {},
   "source": [
    "### Helper Functions:\n",
    "\n",
    "**unix_to_date:**\n",
    "- Converts Epoch(Unix) Time into traditional DateTime information\n",
    "\n",
    "**starter:**\n",
    "- applies all necessary cleaning to eliminate null instances, unnecessary columns, etc.\n",
    "- returns working DataFrame with relevant information\n",
    "\n",
    "**calc_magnitude**\n",
    "- Takes individual(x,y,z) accelerometer information and combines it into a singular magnitude\n",
    "\n",
    "**combine**\n",
    "- Takes acceleration dataframe and combines it with gyroscope dataframe "
   ]
  },
  {
   "cell_type": "code",
   "execution_count": 2,
   "metadata": {},
   "outputs": [],
   "source": [
    "def unix_to_date(x):\n",
    "    f = float(x)\n",
    "    full = datetime.datetime.fromtimestamp(int(str(f)[:-5]))\n",
    "    full = full.replace(microsecond=int(float(str(f)[-5:]))*1000)\n",
    "    return full\n"
   ]
  },
  {
   "cell_type": "code",
   "execution_count": 4,
   "metadata": {},
   "outputs": [],
   "source": [
    "def calc_magnitude(data):\n",
    "\n",
    "    # Calculate magnitude  \n",
    "    data['accel_mag'] = np.sqrt(data['x']**2 + data['y']**2 + data['z']**2) # absolute accel magnitude\n",
    "    data['accel_mag'] = data['accel_mag'] - data['accel_mag'].mean() # detrend: \"remove gravity\"\n",
    "\n",
    "    return data"
   ]
  },
  {
   "cell_type": "code",
   "execution_count": 5,
   "metadata": {},
   "outputs": [],
   "source": [
    "def starter(filepath):\n",
    "    df = pd.read_csv(filepath)\n",
    "    df.dropna(inplace=True)\n",
    "    df['Time'] = df['t_unix'].apply(unix_to_date)\n",
    "    df = df.drop(['t_unix','t_Android','a'], axis=1)\n",
    "    df = df.reindex(columns=['Time', 'x', 'y', 'z'])\n",
    "\n",
    "    return df"
   ]
  },
  {
   "cell_type": "code",
   "execution_count": 6,
   "metadata": {},
   "outputs": [],
   "source": [
    "def starter_g(filepath):\n",
    "    df = pd.read_csv(filepath)\n",
    "    df.dropna(inplace=True)\n",
    "    df['Time'] = df['t_unix'].apply(unix_to_date)\n",
    "    df.rename(columns={'x': 'x_gyro'},inplace=True)\n",
    "    df.rename(columns={'y': 'y_gyro'},inplace=True)\n",
    "    df.rename(columns={'z': 'z_gyro'},inplace=True)\n",
    "\n",
    "    df = df.drop(['t_unix','t_Android','a'], axis=1)\n",
    "    df = df.reindex(columns=['Time', 'x_gyro', 'y_gyro', 'z_gyro'])\n",
    "\n",
    "    return df"
   ]
  },
  {
   "cell_type": "code",
   "execution_count": 7,
   "metadata": {},
   "outputs": [],
   "source": [
    "def combine(acg,gyro):\n",
    "    combined_df = pd.merge(acg,gyro,on=\"Time\",how='left')\n",
    "    combined_df.drop_duplicates(subset=acg, inplace=True)\n",
    "    combined_df = combined_df.dropna()\n",
    "    return combined_df\n",
    "\n"
   ]
  },
  {
   "cell_type": "code",
   "execution_count": 8,
   "metadata": {},
   "outputs": [],
   "source": [
    "b_acg = starter(\"data/Backhand/WEAR_ACG.csv\")\n",
    "calc_magnitude(b_acg)\n",
    "f_acg = starter(\"data/Forehand/WEAR_ACG.csv\")\n",
    "calc_magnitude(f_acg)\n",
    "s_acg = starter(\"data/Serve/WEAR_ACG.csv\")\n",
    "calc_magnitude(s_acg)\n",
    "\n",
    "b_gyro = starter_g(\"data/Backhand/WEAR_GYRO.csv\")\n",
    "f_gyro = starter_g(\"data/Forehand/WEAR_GYRO.csv\")\n",
    "s_gyro = starter_g(\"data/Serve/WEAR_GYRO.csv\")"
   ]
  },
  {
   "cell_type": "code",
   "execution_count": 9,
   "metadata": {},
   "outputs": [
    {
     "data": {
      "text/html": [
       "<div>\n",
       "<style scoped>\n",
       "    .dataframe tbody tr th:only-of-type {\n",
       "        vertical-align: middle;\n",
       "    }\n",
       "\n",
       "    .dataframe tbody tr th {\n",
       "        vertical-align: top;\n",
       "    }\n",
       "\n",
       "    .dataframe thead th {\n",
       "        text-align: right;\n",
       "    }\n",
       "</style>\n",
       "<table border=\"1\" class=\"dataframe\">\n",
       "  <thead>\n",
       "    <tr style=\"text-align: right;\">\n",
       "      <th></th>\n",
       "      <th>Time</th>\n",
       "      <th>x</th>\n",
       "      <th>y</th>\n",
       "      <th>z</th>\n",
       "      <th>accel_mag</th>\n",
       "      <th>x_gyro</th>\n",
       "      <th>y_gyro</th>\n",
       "      <th>z_gyro</th>\n",
       "    </tr>\n",
       "  </thead>\n",
       "  <tbody>\n",
       "    <tr>\n",
       "      <th>0</th>\n",
       "      <td>2023-11-27 16:47:22.154</td>\n",
       "      <td>-19.558481</td>\n",
       "      <td>-13.191105</td>\n",
       "      <td>-11.038702</td>\n",
       "      <td>4.424051</td>\n",
       "      <td>0.434325</td>\n",
       "      <td>2.258522</td>\n",
       "      <td>8.095798</td>\n",
       "    </tr>\n",
       "    <tr>\n",
       "      <th>2</th>\n",
       "      <td>2023-11-27 16:47:22.228</td>\n",
       "      <td>-19.558481</td>\n",
       "      <td>-13.191105</td>\n",
       "      <td>-11.038702</td>\n",
       "      <td>4.424051</td>\n",
       "      <td>0.434325</td>\n",
       "      <td>2.258522</td>\n",
       "      <td>8.095798</td>\n",
       "    </tr>\n",
       "    <tr>\n",
       "      <th>10</th>\n",
       "      <td>2023-11-27 16:47:22.277</td>\n",
       "      <td>-19.558481</td>\n",
       "      <td>-13.191105</td>\n",
       "      <td>-11.038702</td>\n",
       "      <td>4.424051</td>\n",
       "      <td>0.434325</td>\n",
       "      <td>2.258522</td>\n",
       "      <td>8.095798</td>\n",
       "    </tr>\n",
       "    <tr>\n",
       "      <th>14</th>\n",
       "      <td>2023-11-27 16:47:22.310</td>\n",
       "      <td>-19.558481</td>\n",
       "      <td>-13.191105</td>\n",
       "      <td>-11.038702</td>\n",
       "      <td>4.424051</td>\n",
       "      <td>0.434325</td>\n",
       "      <td>2.258522</td>\n",
       "      <td>8.095798</td>\n",
       "    </tr>\n",
       "    <tr>\n",
       "      <th>18</th>\n",
       "      <td>2023-11-27 16:47:22.341</td>\n",
       "      <td>-19.558481</td>\n",
       "      <td>-13.191105</td>\n",
       "      <td>-11.038702</td>\n",
       "      <td>4.424051</td>\n",
       "      <td>0.434325</td>\n",
       "      <td>2.258522</td>\n",
       "      <td>8.095798</td>\n",
       "    </tr>\n",
       "  </tbody>\n",
       "</table>\n",
       "</div>"
      ],
      "text/plain": [
       "                      Time          x          y          z  accel_mag  \\\n",
       "0  2023-11-27 16:47:22.154 -19.558481 -13.191105 -11.038702   4.424051   \n",
       "2  2023-11-27 16:47:22.228 -19.558481 -13.191105 -11.038702   4.424051   \n",
       "10 2023-11-27 16:47:22.277 -19.558481 -13.191105 -11.038702   4.424051   \n",
       "14 2023-11-27 16:47:22.310 -19.558481 -13.191105 -11.038702   4.424051   \n",
       "18 2023-11-27 16:47:22.341 -19.558481 -13.191105 -11.038702   4.424051   \n",
       "\n",
       "      x_gyro    y_gyro    z_gyro  \n",
       "0   0.434325  2.258522  8.095798  \n",
       "2   0.434325  2.258522  8.095798  \n",
       "10  0.434325  2.258522  8.095798  \n",
       "14  0.434325  2.258522  8.095798  \n",
       "18  0.434325  2.258522  8.095798  "
      ]
     },
     "execution_count": 9,
     "metadata": {},
     "output_type": "execute_result"
    }
   ],
   "source": [
    "backhand_df = combine(b_acg,b_gyro)\n",
    "forehand_df = combine(f_acg,f_gyro)\n",
    "serve_df = combine(s_acg,s_gyro)\n",
    "\n",
    "backhand_df.head()"
   ]
  },
  {
   "cell_type": "code",
   "execution_count": null,
   "metadata": {},
   "outputs": [],
   "source": []
  }
 ],
 "metadata": {
  "kernelspec": {
   "display_name": "base",
   "language": "python",
   "name": "python3"
  },
  "language_info": {
   "codemirror_mode": {
    "name": "ipython",
    "version": 3
   },
   "file_extension": ".py",
   "mimetype": "text/x-python",
   "name": "python",
   "nbconvert_exporter": "python",
   "pygments_lexer": "ipython3",
   "version": "3.11.4"
  }
 },
 "nbformat": 4,
 "nbformat_minor": 2
}
