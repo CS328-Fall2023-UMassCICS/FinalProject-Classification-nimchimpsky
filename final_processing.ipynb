{
 "cells": [
  {
   "cell_type": "code",
   "execution_count": null,
   "metadata": {},
   "outputs": [],
   "source": [
    "# -- IMPORTS START --\n",
    "import pandas as pd\n",
    "import glob\n",
    "import re\n",
    "import os\n",
    "import sys\n",
    "import pickle\n",
    "import numpy as np\n",
    "import matplotlib\n",
    "import matplotlib.pyplot as plt\n",
    "\n",
    "from sklearn import tree, metrics\n",
    "from sklearn.model_selection import train_test_split, cross_val_score\n",
    "from sklearn.metrics import accuracy_score, confusion_matrix, classification_report, ConfusionMatrixDisplay\n",
    "from scipy.signal import butter, filtfilt, find_peaks\n",
    "from sklearn.tree import DecisionTreeClassifier,export_graphviz\n",
    "from sklearn.model_selection import train_test_split\n",
    "\n",
    "import datetime\n",
    "# -- IMPORTS END --\n",
    "\n",
    "# enable zooming into graphs\n",
    "\n",
    "plt.rcParams['figure.figsize'] = [9, 6] # width, height in inches"
   ]
  },
  {
   "cell_type": "markdown",
   "metadata": {},
   "source": [
    "### Helper Functions:\n",
    "\n",
    "**unix_to_date:**\n",
    "- Converts Epoch(Unix) Time into traditional DateTime information\n",
    "\n",
    "**starter/starter_g:**\n",
    "- applies all necessary cleaning to eliminate null instances, unnecessary columns, etc.\n",
    "- returns working DataFrame with relevant information\n",
    "\n",
    "**calc_magnitude**\n",
    "- Takes individual(x,y,z) accelerometer information and combines it into a singular magnitude\n",
    "\n",
    "**combine**\n",
    "- Takes acceleration dataframe and combines it with gyroscope dataframe "
   ]
  },
  {
   "cell_type": "code",
   "execution_count": null,
   "metadata": {},
   "outputs": [],
   "source": [
    "def unix_to_date(x):\n",
    "    f = float(x)/10**9\n",
    "    full = datetime.datetime.fromtimestamp(f)\n",
    "    return full\n"
   ]
  },
  {
   "cell_type": "code",
   "execution_count": null,
   "metadata": {},
   "outputs": [],
   "source": [
    "def calc_magnitude(data):\n",
    "\n",
    "    # Calculate magnitude  \n",
    "    data['accel_mag'] = np.sqrt(data['x']**2 + data['y']**2 + data['z']**2) # absolute accel magnitude\n",
    "    data['accel_mag'] = data['accel_mag'] - data['accel_mag'].mean() # detrend: \"remove gravity\"\n",
    "\n",
    "    return data"
   ]
  },
  {
   "cell_type": "code",
   "execution_count": null,
   "metadata": {},
   "outputs": [],
   "source": [
    "def starter(filepath):\n",
    "    df = pd.read_csv(filepath, dtype={'time': 'float64'})\n",
    "    df.dropna(inplace=True)\n",
    "    df['time'] = df['time'].apply(unix_to_date)\n",
    "    df = df.drop(['seconds_elapsed'], axis=1)\n",
    "    df = df.reindex(columns=['time', 'x', 'y', 'z'])\n",
    "\n",
    "    return df"
   ]
  },
  {
   "cell_type": "code",
   "execution_count": null,
   "metadata": {},
   "outputs": [],
   "source": [
    "def starter_g(filepath):\n",
    "    df = pd.read_csv(filepath, dtype={'time': 'float64'})\n",
    "    df.dropna(inplace=True)\n",
    "    df['time'] = df['time'].apply(unix_to_date)\n",
    "    df.rename(columns={'x': 'x_gyro'},inplace=True)\n",
    "    df.rename(columns={'y': 'y_gyro'},inplace=True)\n",
    "    df.rename(columns={'z': 'z_gyro'},inplace=True)\n",
    "\n",
    "    df = df.drop(['seconds_elapsed'], axis=1)\n",
    "    df = df.reindex(columns=['time', 'x_gyro', 'y_gyro', 'z_gyro'])\n",
    "\n",
    "    return df"
   ]
  },
  {
   "cell_type": "code",
   "execution_count": null,
   "metadata": {},
   "outputs": [],
   "source": [
    "def combine(acg,gyro):\n",
    "    combined_df = pd.merge(acg,gyro,on=\"time\",how='left')\n",
    "    combined_df.drop_duplicates(subset=acg, inplace=True)\n",
    "    combined_df = combined_df.dropna()\n",
    "    return combined_df\n",
    "\n"
   ]
  },
  {
   "cell_type": "code",
   "execution_count": null,
   "metadata": {},
   "outputs": [],
   "source": [
    "#Do not modify\n",
    "def remove_noise(data,sampling_rate):\n",
    "    from scipy.signal import butter, filtfilt, find_peaks\n",
    "\n",
    "    # Low pass filter\n",
    "    cutoff = 5 # Hz\n",
    "    order = 2\n",
    "    b, a = butter(order, cutoff/(sampling_rate/2), btype='lowpass')\n",
    "    data['filtered_accel_mag'] = filtfilt(b, a, data['accel_mag'])\n",
    "\n",
    "    return data"
   ]
  },
  {
   "cell_type": "code",
   "execution_count": null,
   "metadata": {},
   "outputs": [],
   "source": [
    "def add_features(window):\n",
    "    features = {}\n",
    "    features['avg'] = window['accel_mag'].mean()\n",
    "    features['max'] = window['accel_mag'].quantile(1)\n",
    "    features['med'] = window['accel_mag'].quantile(0.5)\n",
    "    features['min'] = window['accel_mag'].quantile(0)\n",
    "    features['q25'] = window['accel_mag'].quantile(0.25)\n",
    "    features['q75'] = window['accel_mag'].quantile(0.75)\n",
    "    features['std'] = window['accel_mag'].std()\n",
    "    df = pd.DataFrame([features])\n",
    "    return df"
   ]
  },
  {
   "cell_type": "code",
   "execution_count": null,
   "metadata": {},
   "outputs": [],
   "source": [
    "def train_decision_tree(frames):\n",
    "    # Extract feature columns \n",
    "    X = frames[['avg', 'max', 'med', 'min', 'q25', 'q75', 'std']]\n",
    "\n",
    "    # Extract target column\n",
    "    y = frames['activity']\n",
    "\n",
    "    # Split data\n",
    "    X_train, X_test, y_train, y_test = train_test_split(X, y, test_size=0.3, random_state=42) \n",
    "\n",
    "    # Create model\n",
    "    dt_model = DecisionTreeClassifier(criterion='entropy',max_depth=5).fit(X_train, y_train)\n",
    "    dt_pred = dt_model.predict(X_test)\n",
    "\n",
    "    # Evaluate on test set\n",
    "    acc = dt_model.score(X_test, y_test)\n",
    "    dt_cm = confusion_matrix(y_test, dt_pred, labels=dt_model.classes_)\n",
    "    print(classification_report(y_test, dt_pred))\n",
    "    print(\"Accuracy on test set:\", acc)\n",
    "\n",
    "    return dt_model,dt_cm,acc"
   ]
  },
  {
   "cell_type": "markdown",
   "metadata": {},
   "source": [
    "### _________________________________________________\n",
    "### Reading Training Information"
   ]
  },
  {
   "cell_type": "code",
   "execution_count": null,
   "metadata": {},
   "outputs": [],
   "source": [
    "b_a = starter(\"data/Backhand/Accelerometer.csv\")\n",
    "calc_magnitude(b_a)\n",
    "f_a = starter(\"data/Forehand/Accelerometer.csv\")\n",
    "calc_magnitude(f_a)\n",
    "s_a = starter(\"data/Serve/Accelerometer.csv\")\n",
    "calc_magnitude(s_a)\n",
    "\n",
    "b_g = starter_g(\"data/Backhand/Gyroscope.csv\")\n",
    "f_g = starter_g(\"data/Forehand/Gyroscope.csv\")\n",
    "s_g = starter_g(\"data/Serve/Gyroscope.csv\")"
   ]
  },
  {
   "cell_type": "code",
   "execution_count": null,
   "metadata": {},
   "outputs": [],
   "source": [
    "b_a.head()"
   ]
  },
  {
   "cell_type": "code",
   "execution_count": null,
   "metadata": {},
   "outputs": [],
   "source": [
    "b_g.head()"
   ]
  },
  {
   "cell_type": "markdown",
   "metadata": {},
   "source": [
    "### ______________________________\n",
    "### Swing Data Visualization"
   ]
  },
  {
   "cell_type": "code",
   "execution_count": null,
   "metadata": {},
   "outputs": [],
   "source": [
    "def multi_plotter(df):\n",
    "    df.plot(x='time',y='x')\n",
    "    df.plot(x='time',y='y')\n",
    "    df.plot(x='time',y='z')\n",
    "    plt.show()\n",
    "    \n",
    "\n"
   ]
  },
  {
   "cell_type": "code",
   "execution_count": null,
   "metadata": {},
   "outputs": [],
   "source": [
    "multi_plotter(b_a)"
   ]
  },
  {
   "cell_type": "code",
   "execution_count": null,
   "metadata": {},
   "outputs": [],
   "source": [
    "b_g.plot(x='time',y='x_gyro')\n",
    "b_g.plot(x='time',y='y_gyro')\n",
    "b_g.plot(x='time',y='z_gyro')\n",
    "plt.show()"
   ]
  }
 ],
 "metadata": {
  "kernelspec": {
   "display_name": "base",
   "language": "python",
   "name": "python3"
  },
  "language_info": {
   "codemirror_mode": {
    "name": "ipython",
    "version": 3
   },
   "file_extension": ".py",
   "mimetype": "text/x-python",
   "name": "python",
   "nbconvert_exporter": "python",
   "pygments_lexer": "ipython3",
   "version": "3.11.4"
  }
 },
 "nbformat": 4,
 "nbformat_minor": 2
}
